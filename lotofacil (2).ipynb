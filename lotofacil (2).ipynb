{
  "nbformat": 4,
  "nbformat_minor": 0,
  "metadata": {
    "colab": {
      "provenance": []
    },
    "kernelspec": {
      "name": "python3",
      "display_name": "Python 3"
    },
    "language_info": {
      "name": "python"
    }
  },
  "cells": [
    {
      "cell_type": "code",
      "execution_count": 1,
      "metadata": {
        "id": "dsPUOrum5cYU"
      },
      "outputs": [],
      "source": [
        "import pandas as pd\n",
        "import numpy as np\n",
        "import random"
      ]
    },
    {
      "cell_type": "code",
      "source": [
        "#from google.colab import files\n",
        "#uploaded = files.upload()\n",
        "\n",
        "df = pd.read_csv('lotofacil - NUMEROS MAIS SORTEADOS.csv', skiprows=1)"
      ],
      "metadata": {
        "id": "HsHUPk-a88sh"
      },
      "execution_count": 16,
      "outputs": []
    },
    {
      "cell_type": "code",
      "source": [
        "print(df.head())"
      ],
      "metadata": {
        "colab": {
          "base_uri": "https://localhost:8080/"
        },
        "id": "fjhcXNcE9Bz_",
        "outputId": "cd5b72ef-cd59-4b73-cc7d-2f179f7f3ba5"
      },
      "execution_count": 17,
      "outputs": [
        {
          "output_type": "stream",
          "name": "stdout",
          "text": [
            "   Numero  Qtd atualizada\n",
            "0       1            1927\n",
            "1       2            1924\n",
            "2       3            1935\n",
            "3       4            1934\n",
            "4       5            1932\n"
          ]
        }
      ]
    },
    {
      "cell_type": "code",
      "source": [
        "# Verificando os nomes das colunas\n",
        "print(df.columns)"
      ],
      "metadata": {
        "colab": {
          "base_uri": "https://localhost:8080/"
        },
        "id": "-74k7gGV-L4O",
        "outputId": "38fe666b-a09c-4cf8-ffd8-998335c1f404"
      },
      "execution_count": 18,
      "outputs": [
        {
          "output_type": "stream",
          "name": "stdout",
          "text": [
            "Index(['Numero', 'Qtd atualizada'], dtype='object')\n"
          ]
        }
      ]
    },
    {
      "cell_type": "code",
      "source": [
        "# Renomeando a coluna 'Qtd atualizada' para 'quantidade'\n",
        "df = df.rename(columns={'Qtd atualizada': 'quantidade'})\n",
        "df = df.rename(columns={'Numero': 'numero'})\n",
        "\n",
        "# Exibindo o DataFrame para garantir que a coluna foi renomeada\n",
        "print(df.head())"
      ],
      "metadata": {
        "colab": {
          "base_uri": "https://localhost:8080/"
        },
        "id": "mLTNLrSFAWnq",
        "outputId": "ffce288c-56ce-416c-9eae-ff6f4b128ef2"
      },
      "execution_count": 21,
      "outputs": [
        {
          "output_type": "stream",
          "name": "stdout",
          "text": [
            "   numero  quantidade\n",
            "0       1        1927\n",
            "1       2        1924\n",
            "2       3        1935\n",
            "3       4        1934\n",
            "4       5        1932\n"
          ]
        }
      ]
    },
    {
      "cell_type": "code",
      "source": [
        "import numpy as np\n",
        "\n",
        "def prever_proximos_numeros(df, quantidade=15):\n",
        "    # Limitando os números sorteados de 1 a 25\n",
        "    df_filtrado = df[df['numero'].between(1, 25)]\n",
        "\n",
        "    # Criando uma distribuição de probabilidade com base na frequência dos números sorteados\n",
        "    total_sorteios = df_filtrado['quantidade'].sum()\n",
        "    probabilidades = df_filtrado['quantidade'] / total_sorteios\n",
        "\n",
        "    # Usando np.random.choice para prever os números com base nas probabilidades, sem repetição\n",
        "    proximos_numeros = np.random.choice(df_filtrado['numero'], size=quantidade, p=probabilidades, replace=False)\n",
        "\n",
        "    return proximos_numeros\n",
        "\n",
        "# Prevendo os próximos 15 números entre 1 e 25\n",
        "proximos_numeros = prever_proximos_numeros(df)\n",
        "print(\"Próximos 15 números previstos:\", proximos_numeros)"
      ],
      "metadata": {
        "colab": {
          "base_uri": "https://localhost:8080/"
        },
        "id": "4g07g-fZ9E9X",
        "outputId": "6bcafbb8-49fb-4031-a954-f6b7c72796ca"
      },
      "execution_count": 29,
      "outputs": [
        {
          "output_type": "stream",
          "name": "stdout",
          "text": [
            "Próximos 15 números previstos: [ 4  9  6 12 16 11 22  8  2  1 14 19  3  7 18]\n"
          ]
        }
      ]
    },
    {
      "cell_type": "code",
      "source": [
        "numeros_sorteados_caixa = []\n",
        "while len(numeros_sorteados_caixa) < 15:\n",
        "    try:\n",
        "        numero = int(input(f\"Digite o {len(numeros_sorteados_caixa) + 1}º número sorteado na loteria da Caixa (entre 1 e 25): \"))\n",
        "        if 1 <= numero <= 25:\n",
        "            if numero not in numeros_sorteados_caixa:\n",
        "                numeros_sorteados_caixa.append(numero)\n",
        "            else:\n",
        "                print(\"Esse número já foi inserido. Por favor, insira um número diferente.\")\n",
        "        else:\n",
        "            print(\"Por favor, insira um número entre 1 e 25.\")\n",
        "    except ValueError:\n",
        "        print(\"Entrada inválida. Por favor, insira um número válido.\")\n",
        "\n",
        "print(\"Números sorteados na loteria da Caixa:\", numeros_sorteados_caixa)"
      ],
      "metadata": {
        "colab": {
          "base_uri": "https://localhost:8080/"
        },
        "id": "chmyVy4O98x_",
        "outputId": "69d34789-49f3-413a-c72e-4b94d46bfb9c"
      },
      "execution_count": 24,
      "outputs": [
        {
          "output_type": "stream",
          "name": "stdout",
          "text": [
            "Digite o 1º número sorteado na loteria da Caixa (entre 1 e 25): 2\n",
            "Digite o 2º número sorteado na loteria da Caixa (entre 1 e 25): 3\n",
            "Digite o 3º número sorteado na loteria da Caixa (entre 1 e 25): 4\n",
            "Digite o 4º número sorteado na loteria da Caixa (entre 1 e 25): 5\n",
            "Digite o 5º número sorteado na loteria da Caixa (entre 1 e 25): 6\n",
            "Digite o 6º número sorteado na loteria da Caixa (entre 1 e 25): 10\n",
            "Digite o 7º número sorteado na loteria da Caixa (entre 1 e 25): 11\n",
            "Digite o 8º número sorteado na loteria da Caixa (entre 1 e 25): 24\n",
            "Digite o 9º número sorteado na loteria da Caixa (entre 1 e 25): 23\n",
            "Digite o 10º número sorteado na loteria da Caixa (entre 1 e 25): 21\n",
            "Digite o 11º número sorteado na loteria da Caixa (entre 1 e 25): 13\n",
            "Digite o 12º número sorteado na loteria da Caixa (entre 1 e 25): 12\n",
            "Digite o 13º número sorteado na loteria da Caixa (entre 1 e 25): 7\n",
            "Digite o 14º número sorteado na loteria da Caixa (entre 1 e 25): 8\n",
            "Digite o 15º número sorteado na loteria da Caixa (entre 1 e 25): 9\n",
            "Números sorteados na loteria da Caixa: [2, 3, 4, 5, 6, 10, 11, 24, 23, 21, 13, 12, 7, 8, 9]\n"
          ]
        }
      ]
    },
    {
      "cell_type": "code",
      "source": [
        "def atualizar_frequencia(df, numeros_sorteados):\n",
        "    for numero in numeros_sorteados:\n",
        "        # Atualiza a coluna 'quantidade' para o número correspondente\n",
        "        df.loc[df['numero'] == numero, 'quantidade'] += 1\n",
        "    return df\n",
        "\n",
        "# Atualizando o DataFrame com os números da loteria\n",
        "df = atualizar_frequencia(df, numeros_sorteados_caixa)"
      ],
      "metadata": {
        "id": "xGJZPZFBDnp-"
      },
      "execution_count": 25,
      "outputs": []
    },
    {
      "cell_type": "code",
      "source": [
        "print(\"\\nDataFrame atualizado após os novos sorteios:\")\n",
        "print(df.head())"
      ],
      "metadata": {
        "colab": {
          "base_uri": "https://localhost:8080/"
        },
        "id": "Bn1G_g9_DzE2",
        "outputId": "d9f9ed03-752f-4340-801c-d193145c9474"
      },
      "execution_count": 26,
      "outputs": [
        {
          "output_type": "stream",
          "name": "stdout",
          "text": [
            "\n",
            "DataFrame atualizado após os novos sorteios:\n",
            "   numero  quantidade\n",
            "0       1        1927\n",
            "1       2        1925\n",
            "2       3        1936\n",
            "3       4        1935\n",
            "4       5        1933\n"
          ]
        }
      ]
    },
    {
      "cell_type": "markdown",
      "source": [
        "# **Mas qual a probabilidade de realmente ganhar um jogo?**"
      ],
      "metadata": {
        "id": "lbvEOzNhoSxc"
      }
    },
    {
      "cell_type": "code",
      "source": [
        "import math\n",
        "\n",
        "n = 25  # Total de números disponíveis\n",
        "k = 15  # Números sorteados\n",
        "\n",
        "\n",
        "combinacoes = math.comb(n, k)\n",
        "\n",
        "print(f\"O número total de combinações possíveis para escolher {k} números de {n} é {combinacoes:,}.\")\n",
        "print(f\"Isto significa que há {combinacoes:,} maneiras diferentes de escolher os 15 números em cada sorteio.\")\n"
      ],
      "metadata": {
        "colab": {
          "base_uri": "https://localhost:8080/"
        },
        "id": "aieYpdDQD0m1",
        "outputId": "65daf226-b4bd-4904-9819-d62ab43b49a6"
      },
      "execution_count": 28,
      "outputs": [
        {
          "output_type": "stream",
          "name": "stdout",
          "text": [
            "O número total de combinações possíveis para escolher 15 números de 25 é 3,268,760.\n",
            "Isto significa que há 3,268,760 maneiras diferentes de escolher os 15 números em cada sorteio.\n"
          ]
        }
      ]
    },
    {
      "cell_type": "code",
      "source": [],
      "metadata": {
        "id": "VniY6R_jooLb"
      },
      "execution_count": null,
      "outputs": []
    }
  ]
}